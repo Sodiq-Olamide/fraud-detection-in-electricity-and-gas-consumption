{
  "nbformat": 4,
  "nbformat_minor": 0,
  "metadata": {
    "colab": {
      "name": "Fraud detection.ipynb",
      "provenance": [],
      "collapsed_sections": []
    },
    "kernelspec": {
      "name": "python3",
      "display_name": "Python 3"
    },
    "language_info": {
      "name": "python"
    }
  },
  "cells": [
    {
      "cell_type": "markdown",
      "source": [
        "### **FRAUD DETECTION IN ELECTRICITY AND GAS CONSUMPTION**\n",
        "\n",
        "An electricity and gas distribution company STEG has suffered huge losses approximately 200 million Tunisian Dinars due to fraudulent manipulation of meters by its customers. We will use the data the company has on the billing history of its customers to detect fradulent activities.\n",
        "\n",
        "#### **DATA**\n",
        "* For training and testing, there are two datasets: client data and the clients invoice\n",
        "\n",
        "\n",
        "**Variable definitions**\n",
        "\n",
        "Client:\n",
        "\n",
        "* Client_id: Unique id for client\n",
        "* District: District where the client is\n",
        "* Client_catg: Category client belongs to\n",
        "* Region: Area where the client is\n",
        "* Creation_date: Date client joined\n",
        "* Target: fraud:1 , not fraud: 0\n",
        "\n",
        "Invoice data\n",
        "\n",
        "* Client_id: Unique id for the client\n",
        "* Invoice_date: Date of the invoice\n",
        "* Tarif_type: Type of tax\n",
        "* Counter_number:\n",
        "* Counter_statue: takes up to 5 values such as working fine, not working, on * hold statue, ect\n",
        "* Counter_code:\n",
        "* Reading_remarque: notes that the STEG agent takes during his visit to the * client (e.g: If the counter shows something wrong, the agent gives a bad score)\n",
        "*Counter_coefficient: An additional coefficient to be added when standard consumption is exceeded\n",
        "* Consommation_level_1: Consumption_level_1\n",
        "* Consommation_level_2: Consumption_level_2\n",
        "* Consommation_level_3: Consumption_level_3\n",
        "* Consommation_level_4: Consumption_level_4\n",
        "* Old_index: Old index\n",
        "* New_index: New index\n",
        "* Months_number: Month number\n",
        "*Counter_type: Type of counter\n"
      ],
      "metadata": {
        "id": "MesLK-73VJYs"
      }
    },
    {
      "cell_type": "markdown",
      "source": [
        "<a id=\"cont\"></a>\n",
        "\n",
        "## **Table of Contents**\n",
        "\n",
        "<a href=#one>1. Importing Packages</a>\n",
        "\n",
        "<a href=#two>2. Loading Data</a>\n",
        "\n",
        "<a href=#three>3. Exploratory Data Analysis (EDA)</a>\n",
        "\n",
        "<a href=#four>4. Data Engineering</a>\n",
        "\n",
        "<a href=#five>5. Modeling</a>\n",
        "\n",
        "<a href=#six>6. Model Performance</a>\n",
        "\n",
        "<a href=#seven>7. Model Explanations</a>"
      ],
      "metadata": {
        "id": "9knUrgO5K_Ru"
      }
    },
    {
      "cell_type": "markdown",
      "source": [
        " <a id=\"one\"></a>\n",
        "## **1.Importing Packages**\n",
        "<a href=#cont>Back to Table of Contents</a>"
      ],
      "metadata": {
        "id": "TY4Dk7FGLHKW"
      }
    },
    {
      "cell_type": "code",
      "execution_count": 47,
      "metadata": {
        "colab": {
          "base_uri": "https://localhost:8080/"
        },
        "id": "Cg1PRtjbWmcV",
        "outputId": "ce8a2ab5-f99a-4add-89a1-8b6ecde3b8ff"
      },
      "outputs": [
        {
          "output_type": "stream",
          "name": "stdout",
          "text": [
            "Drive already mounted at /content/drive; to attempt to forcibly remount, call drive.mount(\"/content/drive\", force_remount=True).\n"
          ]
        }
      ],
      "source": [
        "# Library for Google Colab\n",
        "from google.colab import drive\n",
        "from scipy import stats\n",
        "drive.mount('/content/drive')\n",
        "\n",
        "# Base Libraries\n",
        "import re\n",
        "import time\n",
        "import warnings\n",
        "warnings.filterwarnings(action='ignore')\n",
        "import pandas as pd\n",
        "import numpy as np\n",
        "\n",
        "# Library for visualization\n",
        "import seaborn as sns\n",
        "sns.set(style=\"darkgrid\")\n",
        "import matplotlib.pyplot as plt\n",
        "%matplotlib inline"
      ]
    },
    {
      "cell_type": "markdown",
      "source": [
        "<a id=\"two\"></a>\n",
        "## **2. Loading Data**\n",
        "<a class=\"anchor\" id=\"1.1\"></a>\n",
        "<a href=#cont>Back to Table of Contents</a>"
      ],
      "metadata": {
        "id": "zhiZtriqvqmJ"
      }
    },
    {
      "cell_type": "code",
      "source": [
        "#load training data\n",
        "client_train_df = pd.read_csv('/content/drive/MyDrive/Internship/train/client_train.csv') \n",
        "invoice_train_df = pd.read_csv('/content/drive/MyDrive/Internship/train/invoice_train.csv') \n",
        "\n",
        "#load testing data\n",
        "client_test_df = pd.read_csv('/content/drive/MyDrive/Internship/test/client_test.csv') \n",
        "invoice_test_df = pd.read_csv('/content/drive/MyDrive/Internship/test/invoice_test.csv') "
      ],
      "metadata": {
        "id": "y_9VlpQCYK-z"
      },
      "execution_count": 48,
      "outputs": []
    },
    {
      "cell_type": "markdown",
      "source": [
        "<a id=\"three\"></a>\n",
        "## **3. Exploratory Data Analysis (EDA)**\n",
        "<a class=\"anchor\" id=\"1.1\"></a>\n",
        "<a href=#cont>Back to Table of Contents</a>"
      ],
      "metadata": {
        "id": "hFHzIQSkMkrt"
      }
    },
    {
      "cell_type": "markdown",
      "source": [
        "### **Basic Analysis**\n",
        "\n",
        "Here we we look at:\n",
        "* The first five data points for each dataset\n",
        "* The shape of our data: how many columns and rows are in each dataframe\n",
        "* The data types for each column\n",
        "* Check if there are null values "
      ],
      "metadata": {
        "id": "7yIEBhmZv0tR"
      }
    },
    {
      "cell_type": "code",
      "source": [
        "#check the first five datapoints for each set\n",
        "client_train_df.head()"
      ],
      "metadata": {
        "colab": {
          "base_uri": "https://localhost:8080/",
          "height": 206
        },
        "id": "StNOkjEvY6-F",
        "outputId": "30263a88-b8ed-4b95-9c27-45f005b9beba"
      },
      "execution_count": 49,
      "outputs": [
        {
          "output_type": "execute_result",
          "data": {
            "text/plain": [
              "   disrict          client_id  client_catg  region creation_date  target\n",
              "0       60     train_Client_0           11     101    31/12/1994     0.0\n",
              "1       69     train_Client_1           11     107    29/05/2002     0.0\n",
              "2       62    train_Client_10           11     301    13/03/1986     0.0\n",
              "3       69   train_Client_100           11     105    11/07/1996     0.0\n",
              "4       62  train_Client_1000           11     303    14/10/2014     0.0"
            ],
            "text/html": [
              "\n",
              "  <div id=\"df-24a57def-8b5f-4d10-b3e8-5a9cee65472b\">\n",
              "    <div class=\"colab-df-container\">\n",
              "      <div>\n",
              "<style scoped>\n",
              "    .dataframe tbody tr th:only-of-type {\n",
              "        vertical-align: middle;\n",
              "    }\n",
              "\n",
              "    .dataframe tbody tr th {\n",
              "        vertical-align: top;\n",
              "    }\n",
              "\n",
              "    .dataframe thead th {\n",
              "        text-align: right;\n",
              "    }\n",
              "</style>\n",
              "<table border=\"1\" class=\"dataframe\">\n",
              "  <thead>\n",
              "    <tr style=\"text-align: right;\">\n",
              "      <th></th>\n",
              "      <th>disrict</th>\n",
              "      <th>client_id</th>\n",
              "      <th>client_catg</th>\n",
              "      <th>region</th>\n",
              "      <th>creation_date</th>\n",
              "      <th>target</th>\n",
              "    </tr>\n",
              "  </thead>\n",
              "  <tbody>\n",
              "    <tr>\n",
              "      <th>0</th>\n",
              "      <td>60</td>\n",
              "      <td>train_Client_0</td>\n",
              "      <td>11</td>\n",
              "      <td>101</td>\n",
              "      <td>31/12/1994</td>\n",
              "      <td>0.0</td>\n",
              "    </tr>\n",
              "    <tr>\n",
              "      <th>1</th>\n",
              "      <td>69</td>\n",
              "      <td>train_Client_1</td>\n",
              "      <td>11</td>\n",
              "      <td>107</td>\n",
              "      <td>29/05/2002</td>\n",
              "      <td>0.0</td>\n",
              "    </tr>\n",
              "    <tr>\n",
              "      <th>2</th>\n",
              "      <td>62</td>\n",
              "      <td>train_Client_10</td>\n",
              "      <td>11</td>\n",
              "      <td>301</td>\n",
              "      <td>13/03/1986</td>\n",
              "      <td>0.0</td>\n",
              "    </tr>\n",
              "    <tr>\n",
              "      <th>3</th>\n",
              "      <td>69</td>\n",
              "      <td>train_Client_100</td>\n",
              "      <td>11</td>\n",
              "      <td>105</td>\n",
              "      <td>11/07/1996</td>\n",
              "      <td>0.0</td>\n",
              "    </tr>\n",
              "    <tr>\n",
              "      <th>4</th>\n",
              "      <td>62</td>\n",
              "      <td>train_Client_1000</td>\n",
              "      <td>11</td>\n",
              "      <td>303</td>\n",
              "      <td>14/10/2014</td>\n",
              "      <td>0.0</td>\n",
              "    </tr>\n",
              "  </tbody>\n",
              "</table>\n",
              "</div>\n",
              "      <button class=\"colab-df-convert\" onclick=\"convertToInteractive('df-24a57def-8b5f-4d10-b3e8-5a9cee65472b')\"\n",
              "              title=\"Convert this dataframe to an interactive table.\"\n",
              "              style=\"display:none;\">\n",
              "        \n",
              "  <svg xmlns=\"http://www.w3.org/2000/svg\" height=\"24px\"viewBox=\"0 0 24 24\"\n",
              "       width=\"24px\">\n",
              "    <path d=\"M0 0h24v24H0V0z\" fill=\"none\"/>\n",
              "    <path d=\"M18.56 5.44l.94 2.06.94-2.06 2.06-.94-2.06-.94-.94-2.06-.94 2.06-2.06.94zm-11 1L8.5 8.5l.94-2.06 2.06-.94-2.06-.94L8.5 2.5l-.94 2.06-2.06.94zm10 10l.94 2.06.94-2.06 2.06-.94-2.06-.94-.94-2.06-.94 2.06-2.06.94z\"/><path d=\"M17.41 7.96l-1.37-1.37c-.4-.4-.92-.59-1.43-.59-.52 0-1.04.2-1.43.59L10.3 9.45l-7.72 7.72c-.78.78-.78 2.05 0 2.83L4 21.41c.39.39.9.59 1.41.59.51 0 1.02-.2 1.41-.59l7.78-7.78 2.81-2.81c.8-.78.8-2.07 0-2.86zM5.41 20L4 18.59l7.72-7.72 1.47 1.35L5.41 20z\"/>\n",
              "  </svg>\n",
              "      </button>\n",
              "      \n",
              "  <style>\n",
              "    .colab-df-container {\n",
              "      display:flex;\n",
              "      flex-wrap:wrap;\n",
              "      gap: 12px;\n",
              "    }\n",
              "\n",
              "    .colab-df-convert {\n",
              "      background-color: #E8F0FE;\n",
              "      border: none;\n",
              "      border-radius: 50%;\n",
              "      cursor: pointer;\n",
              "      display: none;\n",
              "      fill: #1967D2;\n",
              "      height: 32px;\n",
              "      padding: 0 0 0 0;\n",
              "      width: 32px;\n",
              "    }\n",
              "\n",
              "    .colab-df-convert:hover {\n",
              "      background-color: #E2EBFA;\n",
              "      box-shadow: 0px 1px 2px rgba(60, 64, 67, 0.3), 0px 1px 3px 1px rgba(60, 64, 67, 0.15);\n",
              "      fill: #174EA6;\n",
              "    }\n",
              "\n",
              "    [theme=dark] .colab-df-convert {\n",
              "      background-color: #3B4455;\n",
              "      fill: #D2E3FC;\n",
              "    }\n",
              "\n",
              "    [theme=dark] .colab-df-convert:hover {\n",
              "      background-color: #434B5C;\n",
              "      box-shadow: 0px 1px 3px 1px rgba(0, 0, 0, 0.15);\n",
              "      filter: drop-shadow(0px 1px 2px rgba(0, 0, 0, 0.3));\n",
              "      fill: #FFFFFF;\n",
              "    }\n",
              "  </style>\n",
              "\n",
              "      <script>\n",
              "        const buttonEl =\n",
              "          document.querySelector('#df-24a57def-8b5f-4d10-b3e8-5a9cee65472b button.colab-df-convert');\n",
              "        buttonEl.style.display =\n",
              "          google.colab.kernel.accessAllowed ? 'block' : 'none';\n",
              "\n",
              "        async function convertToInteractive(key) {\n",
              "          const element = document.querySelector('#df-24a57def-8b5f-4d10-b3e8-5a9cee65472b');\n",
              "          const dataTable =\n",
              "            await google.colab.kernel.invokeFunction('convertToInteractive',\n",
              "                                                     [key], {});\n",
              "          if (!dataTable) return;\n",
              "\n",
              "          const docLinkHtml = 'Like what you see? Visit the ' +\n",
              "            '<a target=\"_blank\" href=https://colab.research.google.com/notebooks/data_table.ipynb>data table notebook</a>'\n",
              "            + ' to learn more about interactive tables.';\n",
              "          element.innerHTML = '';\n",
              "          dataTable['output_type'] = 'display_data';\n",
              "          await google.colab.output.renderOutput(dataTable, element);\n",
              "          const docLink = document.createElement('div');\n",
              "          docLink.innerHTML = docLinkHtml;\n",
              "          element.appendChild(docLink);\n",
              "        }\n",
              "      </script>\n",
              "    </div>\n",
              "  </div>\n",
              "  "
            ]
          },
          "metadata": {},
          "execution_count": 49
        }
      ]
    },
    {
      "cell_type": "code",
      "source": [
        "invoice_train_df.head()"
      ],
      "metadata": {
        "colab": {
          "base_uri": "https://localhost:8080/",
          "height": 270
        },
        "id": "p6TIWdUdZEFy",
        "outputId": "9622032b-64d5-496e-f105-c40812706ece"
      },
      "execution_count": 50,
      "outputs": [
        {
          "output_type": "execute_result",
          "data": {
            "text/plain": [
              "        client_id invoice_date  tarif_type  counter_number counter_statue  \\\n",
              "0  train_Client_0   2014-03-24          11         1335667              0   \n",
              "1  train_Client_0   2013-03-29          11         1335667              0   \n",
              "2  train_Client_0   2015-03-23          11         1335667              0   \n",
              "3  train_Client_0   2015-07-13          11         1335667              0   \n",
              "4  train_Client_0   2016-11-17          11         1335667              0   \n",
              "\n",
              "   counter_code  reading_remarque  counter_coefficient  consommation_level_1  \\\n",
              "0           203                 8                    1                    82   \n",
              "1           203                 6                    1                  1200   \n",
              "2           203                 8                    1                   123   \n",
              "3           207                 8                    1                   102   \n",
              "4           207                 9                    1                   572   \n",
              "\n",
              "   consommation_level_2  consommation_level_3  consommation_level_4  \\\n",
              "0                     0                     0                     0   \n",
              "1                   184                     0                     0   \n",
              "2                     0                     0                     0   \n",
              "3                     0                     0                     0   \n",
              "4                     0                     0                     0   \n",
              "\n",
              "   old_index  new_index  months_number counter_type  \n",
              "0      14302      14384              4         ELEC  \n",
              "1      12294      13678              4         ELEC  \n",
              "2      14624      14747              4         ELEC  \n",
              "3      14747      14849              4         ELEC  \n",
              "4      15066      15638             12         ELEC  "
            ],
            "text/html": [
              "\n",
              "  <div id=\"df-ccfb53b1-7bb2-40c5-9cfe-830c450b9ca4\">\n",
              "    <div class=\"colab-df-container\">\n",
              "      <div>\n",
              "<style scoped>\n",
              "    .dataframe tbody tr th:only-of-type {\n",
              "        vertical-align: middle;\n",
              "    }\n",
              "\n",
              "    .dataframe tbody tr th {\n",
              "        vertical-align: top;\n",
              "    }\n",
              "\n",
              "    .dataframe thead th {\n",
              "        text-align: right;\n",
              "    }\n",
              "</style>\n",
              "<table border=\"1\" class=\"dataframe\">\n",
              "  <thead>\n",
              "    <tr style=\"text-align: right;\">\n",
              "      <th></th>\n",
              "      <th>client_id</th>\n",
              "      <th>invoice_date</th>\n",
              "      <th>tarif_type</th>\n",
              "      <th>counter_number</th>\n",
              "      <th>counter_statue</th>\n",
              "      <th>counter_code</th>\n",
              "      <th>reading_remarque</th>\n",
              "      <th>counter_coefficient</th>\n",
              "      <th>consommation_level_1</th>\n",
              "      <th>consommation_level_2</th>\n",
              "      <th>consommation_level_3</th>\n",
              "      <th>consommation_level_4</th>\n",
              "      <th>old_index</th>\n",
              "      <th>new_index</th>\n",
              "      <th>months_number</th>\n",
              "      <th>counter_type</th>\n",
              "    </tr>\n",
              "  </thead>\n",
              "  <tbody>\n",
              "    <tr>\n",
              "      <th>0</th>\n",
              "      <td>train_Client_0</td>\n",
              "      <td>2014-03-24</td>\n",
              "      <td>11</td>\n",
              "      <td>1335667</td>\n",
              "      <td>0</td>\n",
              "      <td>203</td>\n",
              "      <td>8</td>\n",
              "      <td>1</td>\n",
              "      <td>82</td>\n",
              "      <td>0</td>\n",
              "      <td>0</td>\n",
              "      <td>0</td>\n",
              "      <td>14302</td>\n",
              "      <td>14384</td>\n",
              "      <td>4</td>\n",
              "      <td>ELEC</td>\n",
              "    </tr>\n",
              "    <tr>\n",
              "      <th>1</th>\n",
              "      <td>train_Client_0</td>\n",
              "      <td>2013-03-29</td>\n",
              "      <td>11</td>\n",
              "      <td>1335667</td>\n",
              "      <td>0</td>\n",
              "      <td>203</td>\n",
              "      <td>6</td>\n",
              "      <td>1</td>\n",
              "      <td>1200</td>\n",
              "      <td>184</td>\n",
              "      <td>0</td>\n",
              "      <td>0</td>\n",
              "      <td>12294</td>\n",
              "      <td>13678</td>\n",
              "      <td>4</td>\n",
              "      <td>ELEC</td>\n",
              "    </tr>\n",
              "    <tr>\n",
              "      <th>2</th>\n",
              "      <td>train_Client_0</td>\n",
              "      <td>2015-03-23</td>\n",
              "      <td>11</td>\n",
              "      <td>1335667</td>\n",
              "      <td>0</td>\n",
              "      <td>203</td>\n",
              "      <td>8</td>\n",
              "      <td>1</td>\n",
              "      <td>123</td>\n",
              "      <td>0</td>\n",
              "      <td>0</td>\n",
              "      <td>0</td>\n",
              "      <td>14624</td>\n",
              "      <td>14747</td>\n",
              "      <td>4</td>\n",
              "      <td>ELEC</td>\n",
              "    </tr>\n",
              "    <tr>\n",
              "      <th>3</th>\n",
              "      <td>train_Client_0</td>\n",
              "      <td>2015-07-13</td>\n",
              "      <td>11</td>\n",
              "      <td>1335667</td>\n",
              "      <td>0</td>\n",
              "      <td>207</td>\n",
              "      <td>8</td>\n",
              "      <td>1</td>\n",
              "      <td>102</td>\n",
              "      <td>0</td>\n",
              "      <td>0</td>\n",
              "      <td>0</td>\n",
              "      <td>14747</td>\n",
              "      <td>14849</td>\n",
              "      <td>4</td>\n",
              "      <td>ELEC</td>\n",
              "    </tr>\n",
              "    <tr>\n",
              "      <th>4</th>\n",
              "      <td>train_Client_0</td>\n",
              "      <td>2016-11-17</td>\n",
              "      <td>11</td>\n",
              "      <td>1335667</td>\n",
              "      <td>0</td>\n",
              "      <td>207</td>\n",
              "      <td>9</td>\n",
              "      <td>1</td>\n",
              "      <td>572</td>\n",
              "      <td>0</td>\n",
              "      <td>0</td>\n",
              "      <td>0</td>\n",
              "      <td>15066</td>\n",
              "      <td>15638</td>\n",
              "      <td>12</td>\n",
              "      <td>ELEC</td>\n",
              "    </tr>\n",
              "  </tbody>\n",
              "</table>\n",
              "</div>\n",
              "      <button class=\"colab-df-convert\" onclick=\"convertToInteractive('df-ccfb53b1-7bb2-40c5-9cfe-830c450b9ca4')\"\n",
              "              title=\"Convert this dataframe to an interactive table.\"\n",
              "              style=\"display:none;\">\n",
              "        \n",
              "  <svg xmlns=\"http://www.w3.org/2000/svg\" height=\"24px\"viewBox=\"0 0 24 24\"\n",
              "       width=\"24px\">\n",
              "    <path d=\"M0 0h24v24H0V0z\" fill=\"none\"/>\n",
              "    <path d=\"M18.56 5.44l.94 2.06.94-2.06 2.06-.94-2.06-.94-.94-2.06-.94 2.06-2.06.94zm-11 1L8.5 8.5l.94-2.06 2.06-.94-2.06-.94L8.5 2.5l-.94 2.06-2.06.94zm10 10l.94 2.06.94-2.06 2.06-.94-2.06-.94-.94-2.06-.94 2.06-2.06.94z\"/><path d=\"M17.41 7.96l-1.37-1.37c-.4-.4-.92-.59-1.43-.59-.52 0-1.04.2-1.43.59L10.3 9.45l-7.72 7.72c-.78.78-.78 2.05 0 2.83L4 21.41c.39.39.9.59 1.41.59.51 0 1.02-.2 1.41-.59l7.78-7.78 2.81-2.81c.8-.78.8-2.07 0-2.86zM5.41 20L4 18.59l7.72-7.72 1.47 1.35L5.41 20z\"/>\n",
              "  </svg>\n",
              "      </button>\n",
              "      \n",
              "  <style>\n",
              "    .colab-df-container {\n",
              "      display:flex;\n",
              "      flex-wrap:wrap;\n",
              "      gap: 12px;\n",
              "    }\n",
              "\n",
              "    .colab-df-convert {\n",
              "      background-color: #E8F0FE;\n",
              "      border: none;\n",
              "      border-radius: 50%;\n",
              "      cursor: pointer;\n",
              "      display: none;\n",
              "      fill: #1967D2;\n",
              "      height: 32px;\n",
              "      padding: 0 0 0 0;\n",
              "      width: 32px;\n",
              "    }\n",
              "\n",
              "    .colab-df-convert:hover {\n",
              "      background-color: #E2EBFA;\n",
              "      box-shadow: 0px 1px 2px rgba(60, 64, 67, 0.3), 0px 1px 3px 1px rgba(60, 64, 67, 0.15);\n",
              "      fill: #174EA6;\n",
              "    }\n",
              "\n",
              "    [theme=dark] .colab-df-convert {\n",
              "      background-color: #3B4455;\n",
              "      fill: #D2E3FC;\n",
              "    }\n",
              "\n",
              "    [theme=dark] .colab-df-convert:hover {\n",
              "      background-color: #434B5C;\n",
              "      box-shadow: 0px 1px 3px 1px rgba(0, 0, 0, 0.15);\n",
              "      filter: drop-shadow(0px 1px 2px rgba(0, 0, 0, 0.3));\n",
              "      fill: #FFFFFF;\n",
              "    }\n",
              "  </style>\n",
              "\n",
              "      <script>\n",
              "        const buttonEl =\n",
              "          document.querySelector('#df-ccfb53b1-7bb2-40c5-9cfe-830c450b9ca4 button.colab-df-convert');\n",
              "        buttonEl.style.display =\n",
              "          google.colab.kernel.accessAllowed ? 'block' : 'none';\n",
              "\n",
              "        async function convertToInteractive(key) {\n",
              "          const element = document.querySelector('#df-ccfb53b1-7bb2-40c5-9cfe-830c450b9ca4');\n",
              "          const dataTable =\n",
              "            await google.colab.kernel.invokeFunction('convertToInteractive',\n",
              "                                                     [key], {});\n",
              "          if (!dataTable) return;\n",
              "\n",
              "          const docLinkHtml = 'Like what you see? Visit the ' +\n",
              "            '<a target=\"_blank\" href=https://colab.research.google.com/notebooks/data_table.ipynb>data table notebook</a>'\n",
              "            + ' to learn more about interactive tables.';\n",
              "          element.innerHTML = '';\n",
              "          dataTable['output_type'] = 'display_data';\n",
              "          await google.colab.output.renderOutput(dataTable, element);\n",
              "          const docLink = document.createElement('div');\n",
              "          docLink.innerHTML = docLinkHtml;\n",
              "          element.appendChild(docLink);\n",
              "        }\n",
              "      </script>\n",
              "    </div>\n",
              "  </div>\n",
              "  "
            ]
          },
          "metadata": {},
          "execution_count": 50
        }
      ]
    },
    {
      "cell_type": "code",
      "source": [
        "#train data\n",
        "client_train_df.shape"
      ],
      "metadata": {
        "colab": {
          "base_uri": "https://localhost:8080/"
        },
        "id": "oZQOrnNGZKeF",
        "outputId": "0a7538da-21a2-40ba-add5-fc51fa320a0b"
      },
      "execution_count": 51,
      "outputs": [
        {
          "output_type": "execute_result",
          "data": {
            "text/plain": [
              "(135493, 6)"
            ]
          },
          "metadata": {},
          "execution_count": 51
        }
      ]
    },
    {
      "cell_type": "code",
      "source": [
        "#train data\n",
        "invoice_train_df.shape"
      ],
      "metadata": {
        "colab": {
          "base_uri": "https://localhost:8080/"
        },
        "id": "ZskhReoPZe1B",
        "outputId": "b2afbfd6-a399-4b40-9870-7f1f7505d6f0"
      },
      "execution_count": 52,
      "outputs": [
        {
          "output_type": "execute_result",
          "data": {
            "text/plain": [
              "(4476749, 16)"
            ]
          },
          "metadata": {},
          "execution_count": 52
        }
      ]
    },
    {
      "cell_type": "code",
      "source": [
        "#test data\n",
        "client_test_df.shape"
      ],
      "metadata": {
        "colab": {
          "base_uri": "https://localhost:8080/"
        },
        "id": "N2d9LIVxZilf",
        "outputId": "3d01b918-d96d-43ea-ffba-c8e36ac35416"
      },
      "execution_count": 53,
      "outputs": [
        {
          "output_type": "execute_result",
          "data": {
            "text/plain": [
              "(58069, 5)"
            ]
          },
          "metadata": {},
          "execution_count": 53
        }
      ]
    },
    {
      "cell_type": "code",
      "source": [
        "#test data\n",
        "invoice_test_df.shape"
      ],
      "metadata": {
        "colab": {
          "base_uri": "https://localhost:8080/"
        },
        "id": "-BWohByeZlON",
        "outputId": "040596e7-d527-40a2-dac3-2b904bfc82ed"
      },
      "execution_count": 54,
      "outputs": [
        {
          "output_type": "execute_result",
          "data": {
            "text/plain": [
              "(1939730, 16)"
            ]
          },
          "metadata": {},
          "execution_count": 54
        }
      ]
    },
    {
      "cell_type": "markdown",
      "source": [
        "**Train data**\n",
        "\n",
        "The client train dataframe has 135,493 rows and 6 columns while the invoice train dataframe has 4,476,749 rows and 16 columns. \n",
        "\n",
        "**Test data**\n",
        "\n",
        "The client test dataframe has 58,069 rows and 5 columns. This is one less column than the client test dataframe. The invoice test dataframe on the other hand has 1,939,730 rows and 16 columns. \n",
        "\n",
        "We will confirm that the missing column in our client test dataframe is the target column. "
      ],
      "metadata": {
        "id": "G7kdmUOPAgYd"
      }
    },
    {
      "cell_type": "code",
      "source": [
        "#basic info and datatypes \n",
        "client_train_df.info()"
      ],
      "metadata": {
        "colab": {
          "base_uri": "https://localhost:8080/"
        },
        "id": "byLpd1DeAYQX",
        "outputId": "4387a57e-a007-4fdd-dbf0-7b2120628157"
      },
      "execution_count": 55,
      "outputs": [
        {
          "output_type": "stream",
          "name": "stdout",
          "text": [
            "<class 'pandas.core.frame.DataFrame'>\n",
            "RangeIndex: 135493 entries, 0 to 135492\n",
            "Data columns (total 6 columns):\n",
            " #   Column         Non-Null Count   Dtype  \n",
            "---  ------         --------------   -----  \n",
            " 0   disrict        135493 non-null  int64  \n",
            " 1   client_id      135493 non-null  object \n",
            " 2   client_catg    135493 non-null  int64  \n",
            " 3   region         135493 non-null  int64  \n",
            " 4   creation_date  135493 non-null  object \n",
            " 5   target         135493 non-null  float64\n",
            "dtypes: float64(1), int64(3), object(2)\n",
            "memory usage: 6.2+ MB\n"
          ]
        }
      ]
    },
    {
      "cell_type": "code",
      "source": [
        "client_test_df.info()"
      ],
      "metadata": {
        "colab": {
          "base_uri": "https://localhost:8080/"
        },
        "id": "sZn1moJuCfLm",
        "outputId": "00b39116-991c-4cf3-87a6-425cc2924257"
      },
      "execution_count": 56,
      "outputs": [
        {
          "output_type": "stream",
          "name": "stdout",
          "text": [
            "<class 'pandas.core.frame.DataFrame'>\n",
            "RangeIndex: 58069 entries, 0 to 58068\n",
            "Data columns (total 5 columns):\n",
            " #   Column         Non-Null Count  Dtype \n",
            "---  ------         --------------  ----- \n",
            " 0   disrict        58069 non-null  int64 \n",
            " 1   client_id      58069 non-null  object\n",
            " 2   client_catg    58069 non-null  int64 \n",
            " 3   region         58069 non-null  int64 \n",
            " 4   creation_date  58069 non-null  object\n",
            "dtypes: int64(3), object(2)\n",
            "memory usage: 2.2+ MB\n"
          ]
        }
      ]
    },
    {
      "cell_type": "markdown",
      "source": [
        "* We can observe that the missing column from the client **test** dataframe is the **target** column literally. This is the column that our model is supposed to predict. \n",
        "* There are two datatypes: int64 and object.\n",
        "* Our target column is of the data type float64."
      ],
      "metadata": {
        "id": "_w_4-rIYCsPk"
      }
    },
    {
      "cell_type": "code",
      "source": [
        "client_train_df.nunique()"
      ],
      "metadata": {
        "colab": {
          "base_uri": "https://localhost:8080/"
        },
        "id": "xJLXcPiy4SBq",
        "outputId": "6e3d50f7-06f6-424c-b6a4-0e1f9a3a1c46"
      },
      "execution_count": 57,
      "outputs": [
        {
          "output_type": "execute_result",
          "data": {
            "text/plain": [
              "disrict               4\n",
              "client_id        135493\n",
              "client_catg           3\n",
              "region               25\n",
              "creation_date      8088\n",
              "target                2\n",
              "dtype: int64"
            ]
          },
          "metadata": {},
          "execution_count": 57
        }
      ]
    },
    {
      "cell_type": "code",
      "source": [
        "invoice_train_df.nunique()"
      ],
      "metadata": {
        "colab": {
          "base_uri": "https://localhost:8080/"
        },
        "id": "KuAzBV-y4XIj",
        "outputId": "ce82ed0b-7425-450d-828c-5843404d004a"
      },
      "execution_count": 58,
      "outputs": [
        {
          "output_type": "execute_result",
          "data": {
            "text/plain": [
              "client_id               135493\n",
              "invoice_date              8275\n",
              "tarif_type                  17\n",
              "counter_number          201893\n",
              "counter_statue              16\n",
              "counter_code                42\n",
              "reading_remarque             8\n",
              "counter_coefficient         16\n",
              "consommation_level_1      8295\n",
              "consommation_level_2     12576\n",
              "consommation_level_3      2253\n",
              "consommation_level_4     12075\n",
              "old_index               155648\n",
              "new_index               157980\n",
              "months_number             1370\n",
              "counter_type                 2\n",
              "dtype: int64"
            ]
          },
          "metadata": {},
          "execution_count": 58
        }
      ]
    },
    {
      "cell_type": "markdown",
      "source": [
        "* The number of unique client_id is similar for both datasets. We will therefore map the client dataset onto the invocice data so that we can be able to analyse our dataset with the target column present. \n",
        "* From the counter_type column we can observe that there are two types of counters"
      ],
      "metadata": {
        "id": "grfOEU_C4fVL"
      }
    },
    {
      "cell_type": "code",
      "source": [
        "invoice_train_df['counter_type'].unique()"
      ],
      "metadata": {
        "colab": {
          "base_uri": "https://localhost:8080/"
        },
        "id": "qJYG19OW4oeX",
        "outputId": "039b1492-65a3-45ab-d475-e641b6e5366c"
      },
      "execution_count": 59,
      "outputs": [
        {
          "output_type": "execute_result",
          "data": {
            "text/plain": [
              "array(['ELEC', 'GAZ'], dtype=object)"
            ]
          },
          "metadata": {},
          "execution_count": 59
        }
      ]
    },
    {
      "cell_type": "markdown",
      "source": [
        "* The types of counter are **ELEC** and **GAZ**. These represent electricity and gas counters repectively."
      ],
      "metadata": {
        "id": "HQuiOlji5GRj"
      }
    },
    {
      "cell_type": "code",
      "source": [
        "#merge the two train dataframes\n",
        "train_df= pd.merge(invoice_train_df, client_train_df, how='inner', on = 'client_id')"
      ],
      "metadata": {
        "id": "ZYoIUOUW6JnJ"
      },
      "execution_count": 60,
      "outputs": []
    },
    {
      "cell_type": "code",
      "source": [
        "#merge the two test dataframes\n",
        "test_df= pd.merge(invoice_test_df, client_test_df, how='inner', on = 'client_id')"
      ],
      "metadata": {
        "id": "aZXjCNJW7j1o"
      },
      "execution_count": 61,
      "outputs": []
    },
    {
      "cell_type": "markdown",
      "source": [
        "After merging the two dataframes, we expect:\n",
        "* The number of rows for the new train dataframe to be the same as the number of rows from the invoice train dataframe i.e 4476749\n",
        "* The number of columns to be a sum of the columns from the two dataframes i.e 21\n",
        "\n",
        "We can confirm this by using the .shape method below:"
      ],
      "metadata": {
        "id": "5It5g04b6xIJ"
      }
    },
    {
      "cell_type": "code",
      "source": [
        "#check the shape of the new train dataframe\n",
        "train_df.shape "
      ],
      "metadata": {
        "colab": {
          "base_uri": "https://localhost:8080/"
        },
        "id": "MwqOcNDn6iAG",
        "outputId": "75b63480-f1b3-4ca5-c460-eaeed544225b"
      },
      "execution_count": 62,
      "outputs": [
        {
          "output_type": "execute_result",
          "data": {
            "text/plain": [
              "(4476749, 21)"
            ]
          },
          "metadata": {},
          "execution_count": 62
        }
      ]
    },
    {
      "cell_type": "code",
      "source": [
        "#check the first five rows of our train data\n",
        "train_df.head()"
      ],
      "metadata": {
        "colab": {
          "base_uri": "https://localhost:8080/",
          "height": 300
        },
        "id": "a4Hxu2lK7x8K",
        "outputId": "72eced5b-f3f7-4327-c99e-348550c682ba"
      },
      "execution_count": 63,
      "outputs": [
        {
          "output_type": "execute_result",
          "data": {
            "text/plain": [
              "        client_id invoice_date  tarif_type  counter_number counter_statue  \\\n",
              "0  train_Client_0   2014-03-24          11         1335667              0   \n",
              "1  train_Client_0   2013-03-29          11         1335667              0   \n",
              "2  train_Client_0   2015-03-23          11         1335667              0   \n",
              "3  train_Client_0   2015-07-13          11         1335667              0   \n",
              "4  train_Client_0   2016-11-17          11         1335667              0   \n",
              "\n",
              "   counter_code  reading_remarque  counter_coefficient  consommation_level_1  \\\n",
              "0           203                 8                    1                    82   \n",
              "1           203                 6                    1                  1200   \n",
              "2           203                 8                    1                   123   \n",
              "3           207                 8                    1                   102   \n",
              "4           207                 9                    1                   572   \n",
              "\n",
              "   consommation_level_2  ...  consommation_level_4  old_index  new_index  \\\n",
              "0                     0  ...                     0      14302      14384   \n",
              "1                   184  ...                     0      12294      13678   \n",
              "2                     0  ...                     0      14624      14747   \n",
              "3                     0  ...                     0      14747      14849   \n",
              "4                     0  ...                     0      15066      15638   \n",
              "\n",
              "   months_number  counter_type disrict  client_catg  region  creation_date  \\\n",
              "0              4          ELEC      60           11     101     31/12/1994   \n",
              "1              4          ELEC      60           11     101     31/12/1994   \n",
              "2              4          ELEC      60           11     101     31/12/1994   \n",
              "3              4          ELEC      60           11     101     31/12/1994   \n",
              "4             12          ELEC      60           11     101     31/12/1994   \n",
              "\n",
              "  target  \n",
              "0    0.0  \n",
              "1    0.0  \n",
              "2    0.0  \n",
              "3    0.0  \n",
              "4    0.0  \n",
              "\n",
              "[5 rows x 21 columns]"
            ],
            "text/html": [
              "\n",
              "  <div id=\"df-2a528bfb-7e21-4b40-8d77-2e14a2c58b4b\">\n",
              "    <div class=\"colab-df-container\">\n",
              "      <div>\n",
              "<style scoped>\n",
              "    .dataframe tbody tr th:only-of-type {\n",
              "        vertical-align: middle;\n",
              "    }\n",
              "\n",
              "    .dataframe tbody tr th {\n",
              "        vertical-align: top;\n",
              "    }\n",
              "\n",
              "    .dataframe thead th {\n",
              "        text-align: right;\n",
              "    }\n",
              "</style>\n",
              "<table border=\"1\" class=\"dataframe\">\n",
              "  <thead>\n",
              "    <tr style=\"text-align: right;\">\n",
              "      <th></th>\n",
              "      <th>client_id</th>\n",
              "      <th>invoice_date</th>\n",
              "      <th>tarif_type</th>\n",
              "      <th>counter_number</th>\n",
              "      <th>counter_statue</th>\n",
              "      <th>counter_code</th>\n",
              "      <th>reading_remarque</th>\n",
              "      <th>counter_coefficient</th>\n",
              "      <th>consommation_level_1</th>\n",
              "      <th>consommation_level_2</th>\n",
              "      <th>...</th>\n",
              "      <th>consommation_level_4</th>\n",
              "      <th>old_index</th>\n",
              "      <th>new_index</th>\n",
              "      <th>months_number</th>\n",
              "      <th>counter_type</th>\n",
              "      <th>disrict</th>\n",
              "      <th>client_catg</th>\n",
              "      <th>region</th>\n",
              "      <th>creation_date</th>\n",
              "      <th>target</th>\n",
              "    </tr>\n",
              "  </thead>\n",
              "  <tbody>\n",
              "    <tr>\n",
              "      <th>0</th>\n",
              "      <td>train_Client_0</td>\n",
              "      <td>2014-03-24</td>\n",
              "      <td>11</td>\n",
              "      <td>1335667</td>\n",
              "      <td>0</td>\n",
              "      <td>203</td>\n",
              "      <td>8</td>\n",
              "      <td>1</td>\n",
              "      <td>82</td>\n",
              "      <td>0</td>\n",
              "      <td>...</td>\n",
              "      <td>0</td>\n",
              "      <td>14302</td>\n",
              "      <td>14384</td>\n",
              "      <td>4</td>\n",
              "      <td>ELEC</td>\n",
              "      <td>60</td>\n",
              "      <td>11</td>\n",
              "      <td>101</td>\n",
              "      <td>31/12/1994</td>\n",
              "      <td>0.0</td>\n",
              "    </tr>\n",
              "    <tr>\n",
              "      <th>1</th>\n",
              "      <td>train_Client_0</td>\n",
              "      <td>2013-03-29</td>\n",
              "      <td>11</td>\n",
              "      <td>1335667</td>\n",
              "      <td>0</td>\n",
              "      <td>203</td>\n",
              "      <td>6</td>\n",
              "      <td>1</td>\n",
              "      <td>1200</td>\n",
              "      <td>184</td>\n",
              "      <td>...</td>\n",
              "      <td>0</td>\n",
              "      <td>12294</td>\n",
              "      <td>13678</td>\n",
              "      <td>4</td>\n",
              "      <td>ELEC</td>\n",
              "      <td>60</td>\n",
              "      <td>11</td>\n",
              "      <td>101</td>\n",
              "      <td>31/12/1994</td>\n",
              "      <td>0.0</td>\n",
              "    </tr>\n",
              "    <tr>\n",
              "      <th>2</th>\n",
              "      <td>train_Client_0</td>\n",
              "      <td>2015-03-23</td>\n",
              "      <td>11</td>\n",
              "      <td>1335667</td>\n",
              "      <td>0</td>\n",
              "      <td>203</td>\n",
              "      <td>8</td>\n",
              "      <td>1</td>\n",
              "      <td>123</td>\n",
              "      <td>0</td>\n",
              "      <td>...</td>\n",
              "      <td>0</td>\n",
              "      <td>14624</td>\n",
              "      <td>14747</td>\n",
              "      <td>4</td>\n",
              "      <td>ELEC</td>\n",
              "      <td>60</td>\n",
              "      <td>11</td>\n",
              "      <td>101</td>\n",
              "      <td>31/12/1994</td>\n",
              "      <td>0.0</td>\n",
              "    </tr>\n",
              "    <tr>\n",
              "      <th>3</th>\n",
              "      <td>train_Client_0</td>\n",
              "      <td>2015-07-13</td>\n",
              "      <td>11</td>\n",
              "      <td>1335667</td>\n",
              "      <td>0</td>\n",
              "      <td>207</td>\n",
              "      <td>8</td>\n",
              "      <td>1</td>\n",
              "      <td>102</td>\n",
              "      <td>0</td>\n",
              "      <td>...</td>\n",
              "      <td>0</td>\n",
              "      <td>14747</td>\n",
              "      <td>14849</td>\n",
              "      <td>4</td>\n",
              "      <td>ELEC</td>\n",
              "      <td>60</td>\n",
              "      <td>11</td>\n",
              "      <td>101</td>\n",
              "      <td>31/12/1994</td>\n",
              "      <td>0.0</td>\n",
              "    </tr>\n",
              "    <tr>\n",
              "      <th>4</th>\n",
              "      <td>train_Client_0</td>\n",
              "      <td>2016-11-17</td>\n",
              "      <td>11</td>\n",
              "      <td>1335667</td>\n",
              "      <td>0</td>\n",
              "      <td>207</td>\n",
              "      <td>9</td>\n",
              "      <td>1</td>\n",
              "      <td>572</td>\n",
              "      <td>0</td>\n",
              "      <td>...</td>\n",
              "      <td>0</td>\n",
              "      <td>15066</td>\n",
              "      <td>15638</td>\n",
              "      <td>12</td>\n",
              "      <td>ELEC</td>\n",
              "      <td>60</td>\n",
              "      <td>11</td>\n",
              "      <td>101</td>\n",
              "      <td>31/12/1994</td>\n",
              "      <td>0.0</td>\n",
              "    </tr>\n",
              "  </tbody>\n",
              "</table>\n",
              "<p>5 rows × 21 columns</p>\n",
              "</div>\n",
              "      <button class=\"colab-df-convert\" onclick=\"convertToInteractive('df-2a528bfb-7e21-4b40-8d77-2e14a2c58b4b')\"\n",
              "              title=\"Convert this dataframe to an interactive table.\"\n",
              "              style=\"display:none;\">\n",
              "        \n",
              "  <svg xmlns=\"http://www.w3.org/2000/svg\" height=\"24px\"viewBox=\"0 0 24 24\"\n",
              "       width=\"24px\">\n",
              "    <path d=\"M0 0h24v24H0V0z\" fill=\"none\"/>\n",
              "    <path d=\"M18.56 5.44l.94 2.06.94-2.06 2.06-.94-2.06-.94-.94-2.06-.94 2.06-2.06.94zm-11 1L8.5 8.5l.94-2.06 2.06-.94-2.06-.94L8.5 2.5l-.94 2.06-2.06.94zm10 10l.94 2.06.94-2.06 2.06-.94-2.06-.94-.94-2.06-.94 2.06-2.06.94z\"/><path d=\"M17.41 7.96l-1.37-1.37c-.4-.4-.92-.59-1.43-.59-.52 0-1.04.2-1.43.59L10.3 9.45l-7.72 7.72c-.78.78-.78 2.05 0 2.83L4 21.41c.39.39.9.59 1.41.59.51 0 1.02-.2 1.41-.59l7.78-7.78 2.81-2.81c.8-.78.8-2.07 0-2.86zM5.41 20L4 18.59l7.72-7.72 1.47 1.35L5.41 20z\"/>\n",
              "  </svg>\n",
              "      </button>\n",
              "      \n",
              "  <style>\n",
              "    .colab-df-container {\n",
              "      display:flex;\n",
              "      flex-wrap:wrap;\n",
              "      gap: 12px;\n",
              "    }\n",
              "\n",
              "    .colab-df-convert {\n",
              "      background-color: #E8F0FE;\n",
              "      border: none;\n",
              "      border-radius: 50%;\n",
              "      cursor: pointer;\n",
              "      display: none;\n",
              "      fill: #1967D2;\n",
              "      height: 32px;\n",
              "      padding: 0 0 0 0;\n",
              "      width: 32px;\n",
              "    }\n",
              "\n",
              "    .colab-df-convert:hover {\n",
              "      background-color: #E2EBFA;\n",
              "      box-shadow: 0px 1px 2px rgba(60, 64, 67, 0.3), 0px 1px 3px 1px rgba(60, 64, 67, 0.15);\n",
              "      fill: #174EA6;\n",
              "    }\n",
              "\n",
              "    [theme=dark] .colab-df-convert {\n",
              "      background-color: #3B4455;\n",
              "      fill: #D2E3FC;\n",
              "    }\n",
              "\n",
              "    [theme=dark] .colab-df-convert:hover {\n",
              "      background-color: #434B5C;\n",
              "      box-shadow: 0px 1px 3px 1px rgba(0, 0, 0, 0.15);\n",
              "      filter: drop-shadow(0px 1px 2px rgba(0, 0, 0, 0.3));\n",
              "      fill: #FFFFFF;\n",
              "    }\n",
              "  </style>\n",
              "\n",
              "      <script>\n",
              "        const buttonEl =\n",
              "          document.querySelector('#df-2a528bfb-7e21-4b40-8d77-2e14a2c58b4b button.colab-df-convert');\n",
              "        buttonEl.style.display =\n",
              "          google.colab.kernel.accessAllowed ? 'block' : 'none';\n",
              "\n",
              "        async function convertToInteractive(key) {\n",
              "          const element = document.querySelector('#df-2a528bfb-7e21-4b40-8d77-2e14a2c58b4b');\n",
              "          const dataTable =\n",
              "            await google.colab.kernel.invokeFunction('convertToInteractive',\n",
              "                                                     [key], {});\n",
              "          if (!dataTable) return;\n",
              "\n",
              "          const docLinkHtml = 'Like what you see? Visit the ' +\n",
              "            '<a target=\"_blank\" href=https://colab.research.google.com/notebooks/data_table.ipynb>data table notebook</a>'\n",
              "            + ' to learn more about interactive tables.';\n",
              "          element.innerHTML = '';\n",
              "          dataTable['output_type'] = 'display_data';\n",
              "          await google.colab.output.renderOutput(dataTable, element);\n",
              "          const docLink = document.createElement('div');\n",
              "          docLink.innerHTML = docLinkHtml;\n",
              "          element.appendChild(docLink);\n",
              "        }\n",
              "      </script>\n",
              "    </div>\n",
              "  </div>\n",
              "  "
            ]
          },
          "metadata": {},
          "execution_count": 63
        }
      ]
    },
    {
      "cell_type": "markdown",
      "source": [
        "#### **Advanced Analysis**\n",
        "\n",
        "Here we are going to examine:\n",
        "* The target column\n",
        "* Which region had the highest number of fraud cases\n",
        "* Which district had the highest number of fraud cases\n",
        "* Which year, month and day recorded the highest number of fraud cases\n",
        "* Which counter type is more subject to tempering"
      ],
      "metadata": {
        "id": "vOBdlBTZZ4Uh"
      }
    },
    {
      "cell_type": "markdown",
      "source": [
        "#### **Examine the target column**"
      ],
      "metadata": {
        "id": "9YHX8cwOO77V"
      }
    },
    {
      "cell_type": "code",
      "source": [
        "#count unique values\n",
        "train_df['target'].unique()"
      ],
      "metadata": {
        "colab": {
          "base_uri": "https://localhost:8080/"
        },
        "id": "hXcYfQJYCjso",
        "outputId": "93d8738b-52d6-4253-ff8d-b82d2de46a22"
      },
      "execution_count": 64,
      "outputs": [
        {
          "output_type": "execute_result",
          "data": {
            "text/plain": [
              "array([0., 1.])"
            ]
          },
          "metadata": {},
          "execution_count": 64
        }
      ]
    },
    {
      "cell_type": "markdown",
      "source": [
        "There are two classes in our data: 0 and 1"
      ],
      "metadata": {
        "id": "uGH_ULxKaFir"
      }
    },
    {
      "cell_type": "code",
      "source": [
        "#data amount provided per class\n",
        "train_df['target'].value_counts()"
      ],
      "metadata": {
        "colab": {
          "base_uri": "https://localhost:8080/"
        },
        "id": "bU-kAZ60ZwTa",
        "outputId": "f33dca7e-3ba1-40eb-b03a-b115c88bad1e"
      },
      "execution_count": 65,
      "outputs": [
        {
          "output_type": "execute_result",
          "data": {
            "text/plain": [
              "0.0    4123637\n",
              "1.0     353112\n",
              "Name: target, dtype: int64"
            ]
          },
          "metadata": {},
          "execution_count": 65
        }
      ]
    },
    {
      "cell_type": "markdown",
      "source": [
        "* This shows the amount of data provided for each class. We can observe that  fraudulent cases (1.0) are significantly less than non-fradulent cases(0.0). This can be better shown in a bar graph:"
      ],
      "metadata": {
        "id": "OwUcZt0YgLg2"
      }
    },
    {
      "cell_type": "code",
      "source": [
        "#How many data samples are provided for each class\n",
        "plt.figure(figsize=(10,6))\n",
        "g = sns.barplot(train_df['target'], train_df['target'], palette='Set1', estimator=lambda x: len(x) / len(train_df))\n",
        "\n",
        "for p in g.patches:\n",
        "    width, height = p.get_width(), p.get_height()\n",
        "    x, y = p.get_xy() \n",
        "    g.text(x+width/2, \n",
        "           y+height, \n",
        "           '{:.0%}'.format(height), \n",
        "           horizontalalignment='center',fontsize=15)\n",
        "    \n",
        "#Setting the labels\n",
        "plt.xlabel('Class', fontsize=14)\n",
        "plt.ylabel('Precentage', fontsize=14)\n",
        "plt.title('Percentage data for each class', fontsize=16)\n",
        "\n"
      ],
      "metadata": {
        "colab": {
          "base_uri": "https://localhost:8080/",
          "height": 430
        },
        "id": "F4ZGsQmdczzY",
        "outputId": "8a01b60c-3fee-4f4a-8064-8354c870d98c"
      },
      "execution_count": 66,
      "outputs": [
        {
          "output_type": "execute_result",
          "data": {
            "text/plain": [
              "Text(0.5, 1.0, 'Percentage data for each class')"
            ]
          },
          "metadata": {},
          "execution_count": 66
        },
        {
          "output_type": "display_data",
          "data": {
            "text/plain": [
              "<Figure size 720x432 with 1 Axes>"
            ],
            "image/png": "[encoded data removed]"
          },
          "metadata": {
            "needs_background": "light"
          }
        }
      ]
    },
    {
      "cell_type": "markdown",
      "source": [
        "* The bar graph confirms a severe **class imbalance**. \n",
        "* **Class imbalance** is where there are very few cases reperesenting a given class.\n",
        "* This can affect our model's ability to accurately predict fradulent cases because it has seen few such cases. During model evaluation we will asses our model's ability to predict these fradulent cases. If the accuracy is low, then we can upsample our data or find other methods of dealing with class imbalance.\n"
      ],
      "metadata": {
        "id": "WYqeWx-lgvxT"
      }
    },
    {
      "cell_type": "markdown",
      "source": [
        "#### **Which region had the highest fraud cases**"
      ],
      "metadata": {
        "id": "KOTRDQFnPjSm"
      }
    },
    {
      "cell_type": "code",
      "source": [
        "#separate fraud cases from non-fradulent cases\n",
        "fraud = train_df[train_df['target']==1]\n",
        "non_fraud = train_df[train_df['target']==0]"
      ],
      "metadata": {
        "id": "e6bjCT0qYg4L"
      },
      "execution_count": 67,
      "outputs": []
    },
    {
      "cell_type": "code",
      "source": [
        "fraud_region= fraud[['region','target']].groupby('region').count()\n",
        "nonfraud_region= non_fraud[['region','target']].groupby('region').count()"
      ],
      "metadata": {
        "id": "m26Or8Vv3ekC"
      },
      "execution_count": 68,
      "outputs": []
    },
    {
      "cell_type": "code",
      "source": [
        "#plot region by fraud cases\n",
        "fraud_region.sort_values('target', ascending=False).plot(kind='bar', color='orange')\n",
        "plt.show()"
      ],
      "metadata": {
        "colab": {
          "base_uri": "https://localhost:8080/",
          "height": 297
        },
        "id": "wsVGpdIGQKpi",
        "outputId": "edffa0a1-71a1-4a94-8891-9aa60bde8589"
      },
      "execution_count": 69,
      "outputs": [
        {
          "output_type": "display_data",
          "data": {
            "text/plain": [
              "<Figure size 432x288 with 1 Axes>"
            ],
            "image/png": "[encoded data removed]"
          },
          "metadata": {
            "needs_background": "light"
          }
        }
      ]
    },
    {
      "cell_type": "markdown",
      "source": [
        "* We will focus on the fraud cases since they are the ones giving the company loses\n",
        "* Out of 25 regions, region 311 has the highest number of fraud cases followed by 101."
      ],
      "metadata": {
        "id": "cKTBZ6sLVWqY"
      }
    },
    {
      "cell_type": "markdown",
      "source": [
        "#### **Which district had the highest fraud cases**\n"
      ],
      "metadata": {
        "id": "TXG3YvK4UyxP"
      }
    },
    {
      "cell_type": "code",
      "source": [
        "fraud_district= fraud[['disrict','target']].groupby('disrict').count()\n",
        "#plot region by fraud cases\n",
        "fraud_district.sort_values('target', ascending=False).plot(kind='bar', color='Orange')\n",
        "plt.show()"
      ],
      "metadata": {
        "colab": {
          "base_uri": "https://localhost:8080/",
          "height": 289
        },
        "id": "8NGcUaE0U9Et",
        "outputId": "b9c90204-897d-4c3f-fec6-3edef065b859"
      },
      "execution_count": 70,
      "outputs": [
        {
          "output_type": "display_data",
          "data": {
            "text/plain": [
              "<Figure size 432x288 with 1 Axes>"
            ],
            "image/png": "[encoded data removed]"
          },
          "metadata": {
            "needs_background": "light"
          }
        }
      ]
    },
    {
      "cell_type": "markdown",
      "source": [
        "Out of the 4 districts, district 69 has the highest number of fraud cases cases."
      ],
      "metadata": {
        "id": "dNobbU-tWOeh"
      }
    },
    {
      "cell_type": "markdown",
      "source": [
        "#### **Which Year recorded the highest number of fraud cases**"
      ],
      "metadata": {
        "id": "VbCBmPC8auJw"
      }
    },
    {
      "cell_type": "code",
      "source": [
        "#convert date to a datatype we can use to plot\n",
        "fraud['time'] = pd.to_datetime(fraud['invoice_date'], format='%Y-%m-%d %H:%M:%S')\n",
        "#split datetime to year, month, day, hour\n",
        "fraud['year'] = pd.DatetimeIndex(fraud['time']).year\n",
        "fraud['month'] = pd.DatetimeIndex(fraud['time']).month\n",
        "fraud['day'] = pd.DatetimeIndex(fraud['time']).day"
      ],
      "metadata": {
        "id": "flWZhkdASCO8"
      },
      "execution_count": 75,
      "outputs": []
    },
    {
      "cell_type": "code",
      "source": [
        "year_df = fraud[['year','target']].groupby('year').count()\n",
        "#plot region by fraud cases\n",
        "year_df.sort_values('target', ascending=False).plot(kind='bar', color='Orange')\n",
        "plt.show()"
      ],
      "metadata": {
        "colab": {
          "base_uri": "https://localhost:8080/",
          "height": 303
        },
        "id": "tocAxSVTT4Ig",
        "outputId": "2624ddb5-b825-4d06-8c0a-14306a318574"
      },
      "execution_count": 76,
      "outputs": [
        {
          "output_type": "display_data",
          "data": {
            "text/plain": [
              "<Figure size 432x288 with 1 Axes>"
            ],
            "image/png": "[encoded data removed]"
          },
          "metadata": {
            "needs_background": "light"
          }
        }
      ]
    },
    {
      "cell_type": "markdown",
      "source": [
        "* Of the data provided for the 15 years, the year 2017 had the highest number of fradulent cases, while 2005 had the least cases."
      ],
      "metadata": {
        "id": "_xq8Put4d8TW"
      }
    },
    {
      "cell_type": "markdown",
      "source": [
        "#### **Which month recorded the highest number of fraud cases**"
      ],
      "metadata": {
        "id": "MrgONrsrgFc2"
      }
    },
    {
      "cell_type": "code",
      "source": [
        "month_df = fraud[['month','target']].groupby('month').count()\n",
        "#plot region by fraud cases\n",
        "month_df.sort_values('target', ascending=False).plot(kind='bar', color='Orange')\n",
        "plt.show()"
      ],
      "metadata": {
        "colab": {
          "base_uri": "https://localhost:8080/",
          "height": 289
        },
        "id": "7Cs1aQfBc4zv",
        "outputId": "3efa19c6-9210-4218-97ea-3c2777dc189e"
      },
      "execution_count": 79,
      "outputs": [
        {
          "output_type": "display_data",
          "data": {
            "text/plain": [
              "<Figure size 432x288 with 1 Axes>"
            ],
            "image/png": "[encoded data removed]"
          },
          "metadata": {
            "needs_background": "light"
          }
        }
      ]
    },
    {
      "cell_type": "markdown",
      "source": [
        "* The first five months of the year recorded the highest number of fraud cases with february leading the pack."
      ],
      "metadata": {
        "id": "bRcZ1JB6ehkF"
      }
    },
    {
      "cell_type": "markdown",
      "source": [
        "#### **Which days recorded the highest number of fraud cases**"
      ],
      "metadata": {
        "id": "jgs3t5y3gJA1"
      }
    },
    {
      "cell_type": "code",
      "source": [
        "day_df = fraud[['day','target']].groupby('day').count()\n",
        "#plot region by fraud cases\n",
        "day_df.sort_values('target', ascending=False).plot(kind='bar', color='Orange')\n",
        "plt.show()"
      ],
      "metadata": {
        "colab": {
          "base_uri": "https://localhost:8080/",
          "height": 289
        },
        "id": "RH5HcW38ec_U",
        "outputId": "e1043940-0b2e-4258-c666-db1ecec4fb12"
      },
      "execution_count": 81,
      "outputs": [
        {
          "output_type": "display_data",
          "data": {
            "text/plain": [
              "<Figure size 432x288 with 1 Axes>"
            ],
            "image/png": "[encoded data removed]"
          },
          "metadata": {
            "needs_background": "light"
          }
        }
      ]
    },
    {
      "cell_type": "markdown",
      "source": [
        "* During the begining of the month, there are usually more fraud cases than at the end of the month"
      ],
      "metadata": {
        "id": "Jk_BIV7HfSSF"
      }
    },
    {
      "cell_type": "markdown",
      "source": [
        "#### **Which Counter recorded the highest number of fraud cases**"
      ],
      "metadata": {
        "id": "TewnIcRvgMEo"
      }
    },
    {
      "cell_type": "code",
      "source": [
        "type_df = fraud[['counter_type','target']].groupby('counter_type').count()\n",
        "#plot region by fraud cases\n",
        "type_df.sort_values('counter_type', ascending=False).plot(kind='bar', color='Orange')\n",
        "plt.show()"
      ],
      "metadata": {
        "colab": {
          "base_uri": "https://localhost:8080/",
          "height": 303
        },
        "id": "IPT0gmGnfD6W",
        "outputId": "b968deb6-0f89-41c9-ea81-4c60947ff279"
      },
      "execution_count": 82,
      "outputs": [
        {
          "output_type": "display_data",
          "data": {
            "text/plain": [
              "<Figure size 432x288 with 1 Axes>"
            ],
            "image/png": "[encoded data removed]"
          },
          "metadata": {
            "needs_background": "light"
          }
        }
      ]
    },
    {
      "cell_type": "markdown",
      "source": [
        "* Electricity counters are more subject to theft than gas counters"
      ],
      "metadata": {
        "id": "vB3au48Mfrkw"
      }
    },
    {
      "cell_type": "code",
      "source": [
        ""
      ],
      "metadata": {
        "id": "00ouPcpefofJ"
      },
      "execution_count": null,
      "outputs": []
    }
  ]
}